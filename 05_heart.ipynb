{
  "nbformat": 4,
  "nbformat_minor": 0,
  "metadata": {
    "colab": {
      "name": "05. heart",
      "provenance": [],
      "collapsed_sections": [],
      "mount_file_id": "1LSl7Z0YVo2M9SSotkZHImfYNuLlAmDPf",
      "authorship_tag": "ABX9TyNf7GzqvFakUVDBysSMirUe",
      "include_colab_link": true
    },
    "kernelspec": {
      "name": "python3",
      "display_name": "Python 3"
    },
    "accelerator": "GPU"
  },
  "cells": [
    {
      "cell_type": "markdown",
      "metadata": {
        "id": "view-in-github",
        "colab_type": "text"
      },
      "source": [
        "<a href=\"https://colab.research.google.com/github/mongbro/colab/blob/main/05_heart.ipynb\" target=\"_parent\"><img src=\"https://colab.research.google.com/assets/colab-badge.svg\" alt=\"Open In Colab\"/></a>"
      ]
    },
    {
      "cell_type": "markdown",
      "metadata": {
        "id": "dD2-8e2W-m75"
      },
      "source": [
        "### keras DNN으로 심장병 예측"
      ]
    },
    {
      "cell_type": "markdown",
      "metadata": {
        "id": "6ury6kbG_Xu4"
      },
      "source": [
        "1. 패키지 수입 및 파라미터 지정 "
      ]
    },
    {
      "cell_type": "code",
      "metadata": {
        "id": "NWVUrZq6-hRh"
      },
      "source": [
        "# 패키지 수입\r\n",
        "import pandas as pd\r\n",
        "import matplotlib.pyplot as plt\r\n",
        "import seaborn as sns\r\n",
        "import numpy as np\r\n",
        "\r\n",
        "from time import time\r\n",
        "from keras.models import Sequential\r\n",
        "from keras.layers import Dense\r\n",
        "from sklearn.model_selection import train_test_split\r\n",
        "from sklearn.preprocessing import StandardScaler\r\n",
        "from sklearn.metrics import f1_score, confusion_matrix"
      ],
      "execution_count": null,
      "outputs": []
    },
    {
      "cell_type": "code",
      "metadata": {
        "id": "-UySpuvOA7w_"
      },
      "source": [
        "# 파라미터 지정\r\n",
        "INPUT_DIM = 13\r\n",
        "MY_SPLIT = 0.7\r\n",
        "MY_HIDDEN = 500\r\n",
        "MY_EPOCH = 1000\r\n",
        "\r\n",
        "# 추가 옵션\r\n",
        "pd.set_option('display.max_columns', None)\r\n",
        "np.random.seed(1234)\r\n",
        "sns.set(font_scale = 1.5)"
      ],
      "execution_count": null,
      "outputs": []
    },
    {
      "cell_type": "markdown",
      "metadata": {
        "id": "6VSfdtBGCaD_"
      },
      "source": [
        "2. 데이터 처리"
      ]
    },
    {
      "cell_type": "code",
      "metadata": {
        "colab": {
          "base_uri": "https://localhost:8080/",
          "height": 1000
        },
        "id": "Ju3cHPsmCfpF",
        "outputId": "9d639e74-c1c0-41d7-c41f-195e7b201d77"
      },
      "source": [
        "# 데이터 파일 읽기\r\n",
        "raw = pd.read_csv('/content/drive/MyDrive/Colab Notebooks/data/heart - azure.csv')\r\n",
        "\r\n",
        "\r\n",
        "# 데이터 량 1/3 하기\r\n",
        "# raw = raw.head(100)\r\n",
        "#      => 첫 166명이 전원 심장병이라 결과가 1.0이 된다.\r\n",
        "\r\n",
        "# 샘플 내용 확인 함수\r\n",
        "# 입력 데이터는 반드시 pandas의 데이터 프레임이어야 한다.\r\n",
        "def show_sample(data):\r\n",
        "    print('데이터 샘플 10개 >>')  # 샘플 출력\r\n",
        "    print(data.head(10))\r\n",
        "    print('데이터 통계 >>')  # 통계 출력\r\n",
        "    print(data.describe())\r\n",
        "    plt.figure(figsize = (15, 8))  # 상자 그림 출력\r\n",
        "    sns.boxplot(data = data, palette = 'dark')\r\n",
        "\r\n",
        "show_sample(raw)"
      ],
      "execution_count": null,
      "outputs": [
        {
          "output_type": "stream",
          "text": [
            "데이터 샘플 10개 >>\n",
            "   age  sex  cp  trestbps  chol  fbs  restecg  thalach  exang  oldpeak  slope  \\\n",
            "0   63    1   3       145   233    1        0      150      0      2.3      0   \n",
            "1   37    1   2       130   250    0        1      187      0      3.5      0   \n",
            "2   41    0   1       130   204    0        0      172      0      1.4      2   \n",
            "3   56    1   1       120   236    0        1      178      0      0.8      2   \n",
            "4   57    0   0       120   354    0        1      163      1      0.6      2   \n",
            "5   57    1   0       140   192    0        1      148      0      0.4      1   \n",
            "6   56    0   1       140   294    0        0      153      0      1.3      1   \n",
            "7   44    1   1       120   263    0        1      173      0      0.0      2   \n",
            "8   52    1   2       172   199    1        1      162      0      0.5      2   \n",
            "9   57    1   2       150   168    0        1      174      0      1.6      2   \n",
            "\n",
            "   ca  thal  target  \n",
            "0   0     1       1  \n",
            "1   0     2       1  \n",
            "2   0     2       1  \n",
            "3   0     2       1  \n",
            "4   0     2       1  \n",
            "5   0     1       1  \n",
            "6   0     2       1  \n",
            "7   0     3       1  \n",
            "8   0     3       1  \n",
            "9   0     2       1  \n",
            "데이터 통계 >>\n",
            "              age         sex          cp    trestbps        chol         fbs  \\\n",
            "count  303.000000  303.000000  303.000000  303.000000  303.000000  303.000000   \n",
            "mean    54.366337    0.683168    0.966997  131.623762  246.264026    0.148515   \n",
            "std      9.082101    0.466011    1.032052   17.538143   51.830751    0.356198   \n",
            "min     29.000000    0.000000    0.000000   94.000000  126.000000    0.000000   \n",
            "25%     47.500000    0.000000    0.000000  120.000000  211.000000    0.000000   \n",
            "50%     55.000000    1.000000    1.000000  130.000000  240.000000    0.000000   \n",
            "75%     61.000000    1.000000    2.000000  140.000000  274.500000    0.000000   \n",
            "max     77.000000    1.000000    3.000000  200.000000  564.000000    1.000000   \n",
            "\n",
            "          restecg     thalach       exang     oldpeak       slope          ca  \\\n",
            "count  303.000000  303.000000  303.000000  303.000000  303.000000  303.000000   \n",
            "mean     0.528053  149.646865    0.326733    1.039604    1.399340    0.729373   \n",
            "std      0.525860   22.905161    0.469794    1.161075    0.616226    1.022606   \n",
            "min      0.000000   71.000000    0.000000    0.000000    0.000000    0.000000   \n",
            "25%      0.000000  133.500000    0.000000    0.000000    1.000000    0.000000   \n",
            "50%      1.000000  153.000000    0.000000    0.800000    1.000000    0.000000   \n",
            "75%      1.000000  166.000000    1.000000    1.600000    2.000000    1.000000   \n",
            "max      2.000000  202.000000    1.000000    6.200000    2.000000    4.000000   \n",
            "\n",
            "             thal      target  \n",
            "count  303.000000  303.000000  \n",
            "mean     2.313531    0.544554  \n",
            "std      0.612277    0.498835  \n",
            "min      0.000000    0.000000  \n",
            "25%      2.000000    0.000000  \n",
            "50%      2.000000    1.000000  \n",
            "75%      3.000000    1.000000  \n",
            "max      3.000000    1.000000  \n"
          ],
          "name": "stdout"
        },
        {
          "output_type": "display_data",
          "data": {
            "image/png": "[encoded data removed]",
            "text/plain": [
              "<Figure size 1080x576 with 1 Axes>"
            ]
          },
          "metadata": {
            "tags": []
          }
        }
      ]
    },
    {
      "cell_type": "code",
      "metadata": {
        "colab": {
          "base_uri": "https://localhost:8080/"
        },
        "id": "7JAMLU-DFeku",
        "outputId": "73b04ebf-049b-4606-f65b-ab9b8fadf92d"
      },
      "source": [
        "# 데이터 입력/출력 분할\r\n",
        "X_data = raw.drop('target', axis = 1)\r\n",
        "Y_data = raw['target']\r\n",
        "\r\n",
        "print(X_data.shape)\r\n",
        "print(Y_data.shape)\r\n",
        "\r\n",
        "names = X_data.columns\r\n",
        "print(names)"
      ],
      "execution_count": null,
      "outputs": [
        {
          "output_type": "stream",
          "text": [
            "(303, 13)\n",
            "(303,)\n",
            "Index(['age', 'sex', 'cp', 'trestbps', 'chol', 'fbs', 'restecg', 'thalach',\n",
            "       'exang', 'oldpeak', 'slope', 'ca', 'thal'],\n",
            "      dtype='object')\n"
          ],
          "name": "stdout"
        }
      ]
    },
    {
      "cell_type": "code",
      "metadata": {
        "colab": {
          "base_uri": "https://localhost:8080/",
          "height": 1000
        },
        "id": "4k1l9JSAH1zN",
        "outputId": "a83f264e-975d-47a1-d7c1-061bec20bb50"
      },
      "source": [
        "# 데이터 Z-정규화\r\n",
        "scaler = StandardScaler()\r\n",
        "X_data = scaler.fit_transform(X_data)\r\n",
        "\r\n",
        "# show_sample(X_data)    => 여기서 X_data는 numpy 타입이라 실행시 에러 발생\r\n",
        "                       # => 고치려면 numpy 타입을 pandas 타입으로 변환해야함\r\n",
        "\r\n",
        "# numpy => pandas로 변환\r\n",
        "X_data = pd.DataFrame(X_data, columns = names)\r\n",
        "show_sample(X_data)"
      ],
      "execution_count": null,
      "outputs": [
        {
          "output_type": "stream",
          "text": [
            "데이터 샘플 10개 >>\n",
            "        age       sex        cp  trestbps      chol       fbs   restecg  \\\n",
            "0  0.952197  0.681005  1.973123  0.763956 -0.256334  2.394438 -1.005832   \n",
            "1 -1.915313  0.681005  1.002577 -0.092738  0.072199 -0.417635  0.898962   \n",
            "2 -1.474158 -1.468418  0.032031 -0.092738 -0.816773 -0.417635 -1.005832   \n",
            "3  0.180175  0.681005  0.032031 -0.663867 -0.198357 -0.417635  0.898962   \n",
            "4  0.290464 -1.468418 -0.938515 -0.663867  2.082050 -0.417635  0.898962   \n",
            "5  0.290464  0.681005 -0.938515  0.478391 -1.048678 -0.417635  0.898962   \n",
            "6  0.180175 -1.468418  0.032031  0.478391  0.922521 -0.417635 -1.005832   \n",
            "7 -1.143291  0.681005  0.032031 -0.663867  0.323431 -0.417635  0.898962   \n",
            "8 -0.260980  0.681005  1.002577  2.306004 -0.913400  2.394438  0.898962   \n",
            "9  0.290464  0.681005  1.002577  1.049520 -1.512490 -0.417635  0.898962   \n",
            "\n",
            "    thalach     exang   oldpeak     slope        ca      thal  \n",
            "0  0.015443 -0.696631  1.087338 -2.274579 -0.714429 -2.148873  \n",
            "1  1.633471 -0.696631  2.122573 -2.274579 -0.714429 -0.512922  \n",
            "2  0.977514 -0.696631  0.310912  0.976352 -0.714429 -0.512922  \n",
            "3  1.239897 -0.696631 -0.206705  0.976352 -0.714429 -0.512922  \n",
            "4  0.583939  1.435481 -0.379244  0.976352 -0.714429 -0.512922  \n",
            "5 -0.072018 -0.696631 -0.551783 -0.649113 -0.714429 -2.148873  \n",
            "6  0.146634 -0.696631  0.224643 -0.649113 -0.714429 -0.512922  \n",
            "7  1.021244 -0.696631 -0.896862  0.976352 -0.714429  1.123029  \n",
            "8  0.540209 -0.696631 -0.465514  0.976352 -0.714429  1.123029  \n",
            "9  1.064975 -0.696631  0.483451  0.976352 -0.714429 -0.512922  \n",
            "데이터 통계 >>\n",
            "                age           sex            cp      trestbps          chol  \\\n",
            "count  3.030000e+02  3.030000e+02  3.030000e+02  3.030000e+02  3.030000e+02   \n",
            "mean   5.825923e-17 -1.319077e-17 -5.562565e-17 -7.146832e-16 -9.828955e-17   \n",
            "std    1.001654e+00  1.001654e+00  1.001654e+00  1.001654e+00  1.001654e+00   \n",
            "min   -2.797624e+00 -1.468418e+00 -9.385146e-01 -2.148802e+00 -2.324160e+00   \n",
            "25%   -7.572802e-01 -1.468418e+00 -9.385146e-01 -6.638668e-01 -6.814943e-01   \n",
            "50%    6.988599e-02  6.810052e-01  3.203122e-02 -9.273778e-02 -1.210553e-01   \n",
            "75%    7.316189e-01  6.810052e-01  1.002577e+00  4.783913e-01  5.456738e-01   \n",
            "max    2.496240e+00  6.810052e-01  1.973123e+00  3.905165e+00  6.140401e+00   \n",
            "\n",
            "                fbs       restecg       thalach         exang       oldpeak  \\\n",
            "count  3.030000e+02  3.030000e+02  3.030000e+02  3.030000e+02  3.030000e+02   \n",
            "mean  -3.664102e-19  2.652810e-16 -5.203025e-16 -5.203025e-16 -3.140136e-16   \n",
            "std    1.001654e+00  1.001654e+00  1.001654e+00  1.001654e+00  1.001654e+00   \n",
            "min   -4.176345e-01 -1.005832e+00 -3.439267e+00 -6.966305e-01 -8.968617e-01   \n",
            "25%   -4.176345e-01 -1.005832e+00 -7.061105e-01 -6.966305e-01 -8.968617e-01   \n",
            "50%   -4.176345e-01  8.989622e-01  1.466343e-01 -6.966305e-01 -2.067053e-01   \n",
            "75%   -4.176345e-01  8.989622e-01  7.151309e-01  1.435481e+00  4.834512e-01   \n",
            "max    2.394438e+00  2.803756e+00  2.289429e+00  1.435481e+00  4.451851e+00   \n",
            "\n",
            "              slope            ca          thal  \n",
            "count  3.030000e+02  3.030000e+02  3.030000e+02  \n",
            "mean   1.355718e-16  4.752341e-16  3.484561e-16  \n",
            "std    1.001654e+00  1.001654e+00  1.001654e+00  \n",
            "min   -2.274579e+00 -7.144289e-01 -3.784824e+00  \n",
            "25%   -6.491132e-01 -7.144289e-01 -5.129219e-01  \n",
            "50%   -6.491132e-01 -7.144289e-01 -5.129219e-01  \n",
            "75%    9.763521e-01  2.650822e-01  1.123029e+00  \n",
            "max    9.763521e-01  3.203615e+00  1.123029e+00  \n"
          ],
          "name": "stdout"
        },
        {
          "output_type": "display_data",
          "data": {
            "image/png": "[encoded data removed]",
            "text/plain": [
              "<Figure size 1080x576 with 1 Axes>"
            ]
          },
          "metadata": {
            "tags": []
          }
        }
      ]
    },
    {
      "cell_type": "code",
      "metadata": {
        "colab": {
          "base_uri": "https://localhost:8080/"
        },
        "id": "Be8SzTSrNpNL",
        "outputId": "c0c1d07a-3486-4293-e9ca-f538273e0736"
      },
      "source": [
        "# 데이터를 학습용과 평가용으로 분할하기\r\n",
        "X_train, X_test, Y_train, Y_test = train_test_split(X_data, Y_data,\r\n",
        "                                                    train_size = MY_SPLIT,\r\n",
        "                                                    shuffle = True)\r\n",
        "\r\n",
        "# 최종 데이터 모양 확인\r\n",
        "print('학습용 입력 데이터 모양 :', X_train.shape)\r\n",
        "print('학습용 출력 데이터 모양 :', Y_train.shape)\r\n",
        "print('평가용 입력 데이터 모양 :', X_test.shape)\r\n",
        "print('평가용 출력 데이터 모양 :', Y_test.shape)"
      ],
      "execution_count": null,
      "outputs": [
        {
          "output_type": "stream",
          "text": [
            "학습용 입력 데이터 모양 : (212, 13)\n",
            "학습용 출력 데이터 모양 : (212,)\n",
            "평가용 입력 데이터 모양 : (91, 13)\n",
            "평가용 출력 데이터 모양 : (91,)\n"
          ],
          "name": "stdout"
        }
      ]
    },
    {
      "cell_type": "markdown",
      "metadata": {
        "id": "CYad0ajwOtwk"
      },
      "source": [
        "3. 인공 신경망 구현"
      ]
    },
    {
      "cell_type": "code",
      "metadata": {
        "colab": {
          "base_uri": "https://localhost:8080/"
        },
        "id": "xSdT-ZQXOwH6",
        "outputId": "04818622-0efc-4a3b-f6b9-d52fb254b15d"
      },
      "source": [
        "# DNN 구현\r\n",
        "model = Sequential()\r\n",
        "\r\n",
        "# 입력층과 은닉층1 추가\r\n",
        "model.add(Dense(units = MY_HIDDEN, \r\n",
        "                input_dim = INPUT_DIM, \r\n",
        "                activation = 'tanh',\r\n",
        "                name = 'Dense1'))\r\n",
        "\r\n",
        "# 은닉층2 추가\r\n",
        "model.add(Dense(units = MY_HIDDEN, \r\n",
        "                activation = 'tanh',\r\n",
        "                name = 'Dense2'))\r\n",
        "\r\n",
        "# 출력층 추가\r\n",
        "model.add(Dense(1, activation = 'sigmoid',\r\n",
        "                name = 'Dense3'))\r\n",
        "\r\n",
        "print('DNN 요약')\r\n",
        "model.summary()"
      ],
      "execution_count": null,
      "outputs": [
        {
          "output_type": "stream",
          "text": [
            "DNN 요약\n",
            "Model: \"sequential\"\n",
            "_________________________________________________________________\n",
            "Layer (type)                 Output Shape              Param #   \n",
            "=================================================================\n",
            "Dense1 (Dense)               (None, 500)               7000      \n",
            "_________________________________________________________________\n",
            "Dense2 (Dense)               (None, 500)               250500    \n",
            "_________________________________________________________________\n",
            "Dense3 (Dense)               (None, 1)                 501       \n",
            "=================================================================\n",
            "Total params: 258,001\n",
            "Trainable params: 258,001\n",
            "Non-trainable params: 0\n",
            "_________________________________________________________________\n"
          ],
          "name": "stdout"
        }
      ]
    },
    {
      "cell_type": "markdown",
      "metadata": {
        "id": "c8tJqkyISYpa"
      },
      "source": [
        "4. 인공 신경망 학습"
      ]
    },
    {
      "cell_type": "code",
      "metadata": {
        "colab": {
          "base_uri": "https://localhost:8080/"
        },
        "id": "as3CapOmSa2x",
        "outputId": "09d51b81-5d33-403e-fa61-caa9bafb1a3d"
      },
      "source": [
        "# DNN 학습 방법 설정\r\n",
        "model.compile(optimizer = 'adam',\r\n",
        "              loss = 'binary_crossentropy',\r\n",
        "              metrics = ['acc'])\r\n",
        "\r\n",
        "\r\n",
        "# DNN 학습\r\n",
        "begin = time()\r\n",
        "\r\n",
        "print('학습 시작')\r\n",
        "\r\n",
        "model.fit(x = X_train,\r\n",
        "          y = Y_train,\r\n",
        "          epochs = MY_EPOCH,\r\n",
        "          verbose = 0)\r\n",
        "\r\n",
        "end = time()\r\n",
        "\r\n",
        "print('학습 시간 : {:.2f}초'.format(end - begin))\r\n"
      ],
      "execution_count": null,
      "outputs": [
        {
          "output_type": "stream",
          "text": [
            "학습 시작\n",
            "학습 시간 : 14.34초\n"
          ],
          "name": "stdout"
        }
      ]
    },
    {
      "cell_type": "markdown",
      "metadata": {
        "id": "BTU104lNVBK5"
      },
      "source": [
        "5. 인공 신경망 평가"
      ]
    },
    {
      "cell_type": "code",
      "metadata": {
        "colab": {
          "base_uri": "https://localhost:8080/"
        },
        "id": "Heu58GoHVD_B",
        "outputId": "a3cbe5b9-d0d0-4e3f-fed3-15f5aafdf3e5"
      },
      "source": [
        "# DNN 평가\r\n",
        "score = model.evaluate(x = X_test, y = Y_test, \r\n",
        "               verbose = 0)\r\n",
        "\r\n",
        "print('최종 손실값 : {:.2f}'.format(score[0]))\r\n",
        "print('최종 정확도 : {:.2f}'.format(score[1]))"
      ],
      "execution_count": null,
      "outputs": [
        {
          "output_type": "stream",
          "text": [
            "최종 손실값 : 1.91\n",
            "최종 정확도 : 0.71\n"
          ],
          "name": "stdout"
        }
      ]
    },
    {
      "cell_type": "markdown",
      "metadata": {
        "id": "MyP3Bu-bWDTC"
      },
      "source": [
        "6. 인공 신경망 예측"
      ]
    },
    {
      "cell_type": "code",
      "metadata": {
        "colab": {
          "base_uri": "https://localhost:8080/"
        },
        "id": "y3hhYj_VWHnp",
        "outputId": "e2a94632-905e-44ba-849d-1e537fd761c8"
      },
      "source": [
        "# DNN 예측\r\n",
        "pred = model.predict(x = X_test)\r\n",
        "pred = (pred > 0.5)\r\n",
        "\r\n",
        "print(pred.flatten())\r\n",
        "print(Y_test.to_list())\r\n",
        "\r\n",
        "# 혼돈 행렬 출력\r\n",
        "print('혼돈행렬')\r\n",
        "print(confusion_matrix(y_true = Y_test,\r\n",
        "                       y_pred = pred))\r\n"
      ],
      "execution_count": null,
      "outputs": [
        {
          "output_type": "stream",
          "text": [
            "[ True  True False False False  True  True  True False False  True False\n",
            " False  True False  True False  True  True  True  True  True False False\n",
            "  True  True False  True  True  True  True  True  True False False False\n",
            "  True  True  True  True  True False False  True  True  True  True False\n",
            " False False False False  True False False  True False  True False False\n",
            " False False False  True False  True  True  True False  True  True False\n",
            " False False  True False False  True False False False  True False False\n",
            "  True  True  True False False  True  True]\n",
            "[0, 1, 1, 0, 0, 1, 0, 0, 0, 0, 0, 0, 0, 1, 0, 0, 0, 1, 1, 1, 1, 1, 1, 0, 1, 1, 0, 0, 0, 1, 1, 1, 1, 0, 1, 0, 0, 1, 1, 1, 1, 0, 1, 0, 1, 1, 1, 0, 0, 0, 1, 0, 1, 0, 0, 1, 1, 1, 1, 1, 1, 0, 0, 1, 1, 1, 1, 1, 1, 1, 1, 0, 0, 1, 0, 0, 0, 1, 1, 1, 0, 0, 0, 1, 1, 1, 1, 0, 0, 1, 1]\n",
            "혼돈행렬\n",
            "[[29 11]\n",
            " [15 36]]\n"
          ],
          "name": "stdout"
        }
      ]
    },
    {
      "cell_type": "code",
      "metadata": {
        "colab": {
          "base_uri": "https://localhost:8080/"
        },
        "id": "SKN_ryAgtLXx",
        "outputId": "a628a3c7-0267-4b42-c2dc-47a461017e6d"
      },
      "source": [
        "\r\n",
        "# 3. F1 점수 출력\r\n",
        "f1 = f1_score(y_pred = pred,\r\n",
        "              y_true = Y_test,\r\n",
        "              average = 'micro')\r\n",
        "print('F1점수 : {:.2f}'.format(f1))"
      ],
      "execution_count": null,
      "outputs": [
        {
          "output_type": "stream",
          "text": [
            "F1점수 : 0.71\n"
          ],
          "name": "stdout"
        }
      ]
    }
  ]
}