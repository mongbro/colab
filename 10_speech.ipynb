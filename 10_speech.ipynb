{
  "nbformat": 4,
  "nbformat_minor": 0,
  "metadata": {
    "accelerator": "GPU",
    "colab": {
      "name": "10. speech",
      "provenance": [],
      "collapsed_sections": [],
      "mount_file_id": "1_ShQwj6SjVTjFxesmhbkRg4DYnEoHfOZ",
      "authorship_tag": "ABX9TyMaKhlDQS8pg25H+V9LPSPB",
      "include_colab_link": true
    },
    "kernelspec": {
      "display_name": "Python 3",
      "name": "python3"
    }
  },
  "cells": [
    {
      "cell_type": "markdown",
      "metadata": {
        "id": "view-in-github",
        "colab_type": "text"
      },
      "source": [
        "<a href=\"https://colab.research.google.com/github/mongbro/colab/blob/main/10_speech.ipynb\" target=\"_parent\"><img src=\"https://colab.research.google.com/assets/colab-badge.svg\" alt=\"Open In Colab\"/></a>"
      ]
    },
    {
      "cell_type": "markdown",
      "metadata": {
        "id": "U7ytWwJXgjRq"
      },
      "source": [
        "### keras RNN + CNN으로 음성 인식하기"
      ]
    },
    {
      "cell_type": "markdown",
      "metadata": {
        "id": "jd-q1GJzgn9Q"
      },
      "source": [
        "1. 패키지 수입 및 파라미터 지정"
      ]
    },
    {
      "cell_type": "code",
      "metadata": {
        "id": "oAY4Q_n5Zoc7"
      },
      "source": [
        "# 패키지 수입\r\n",
        "import os\r\n",
        "import numpy as np\r\n",
        "import random\r\n",
        "import librosa\r\n",
        "import librosa.display\r\n",
        "import matplotlib.pyplot as plt\r\n",
        "\r\n",
        "from sklearn.preprocessing import LabelEncoder\r\n",
        "from sklearn.model_selection import train_test_split\r\n",
        "from time import time\r\n",
        "from tqdm import tqdm\r\n",
        "\r\n",
        "from keras.utils.np_utils import to_categorical   # ont-hot-encoding 하는 함수\r\n",
        "from keras.layers import Bidirectional, BatchNormalization  # 배치 정규화\r\n",
        "from keras.layers import GRU, Dense, Dropout\r\n",
        "from keras.layers import Conv1D, Input, MaxPool1D\r\n",
        "from keras.models import Model        # Sequential 안씀"
      ],
      "execution_count": null,
      "outputs": []
    },
    {
      "cell_type": "code",
      "metadata": {
        "id": "wsS0sJRsiau5"
      },
      "source": [
        "# 파라미터 지정\r\n",
        "MY_SPLIT = 0.8\r\n",
        "MY_HIDDEN = 128\r\n",
        "MY_DROP = 0.3\r\n",
        "MY_BATCH = 128\r\n",
        "MY_EPOCH = 100\r\n",
        "MY_PATH = '/content/drive/MyDrive/Colab Notebooks/data/audio'\r\n",
        "\r\n",
        "# 모드 선택\r\n",
        "READ_WAV = 0\r\n",
        "TRAIN_MODE = 1\r\n",
        "\r\n",
        "# 파이썬 리스트 초기화\r\n",
        "all_wave = []\r\n",
        "all_label = []"
      ],
      "execution_count": null,
      "outputs": []
    },
    {
      "cell_type": "markdown",
      "metadata": {
        "id": "wLupPriLj5mB"
      },
      "source": [
        "2. 데이터 처리"
      ]
    },
    {
      "cell_type": "code",
      "metadata": {
        "colab": {
          "base_uri": "https://localhost:8080/",
          "height": 406
        },
        "id": "8v1nXJJSj7Rw",
        "outputId": "1d3fb2ad-f410-4904-8a7a-6e70fb396ee6"
      },
      "source": [
        "# 5가지 음성에 라벨 달기\r\n",
        "labels = ['go', 'happy', 'seven', 'stop', 'yes']\r\n",
        "\r\n",
        "# 샘플 오디오 파일\r\n",
        "sound, rate = librosa.load('/content/drive/MyDrive/Colab Notebooks/data/test.wav')\r\n",
        "print(sound)\r\n",
        "print(rate)     # rate == len(sound)\r\n",
        "\r\n",
        "# 오디오 파일 시각화\r\n",
        "plt.figure(figsize = (10,5))\r\n",
        "librosa.display.waveplot(sound, rate)"
      ],
      "execution_count": null,
      "outputs": [
        {
          "output_type": "stream",
          "text": [
            "[ 0.00045734  0.00092356  0.00115384 ...  0.00073417 -0.00068279\n",
            " -0.0008395 ]\n",
            "22050\n"
          ],
          "name": "stdout"
        },
        {
          "output_type": "execute_result",
          "data": {
            "text/plain": [
              "<matplotlib.collections.PolyCollection at 0x7fbb37dd9a58>"
            ]
          },
          "metadata": {
            "tags": []
          },
          "execution_count": 3
        },
        {
          "output_type": "display_data",
          "data": {
            "image/png": "[encoded data removed]",
            "text/plain": [
              "<Figure size 720x360 with 1 Axes>"
            ]
          },
          "metadata": {
            "tags": [],
            "needs_background": "light"
          }
        }
      ]
    },
    {
      "cell_type": "code",
      "metadata": {
        "id": "OgP5uI8snaoX"
      },
      "source": [
        "# 오디오 파일 읽고 처리\r\n",
        "def read_wave():\r\n",
        "    print('resampling 시작')    # pad_sequence를 하면 중간에 0이 들어가기때문에\r\n",
        "                                # 소리 중간에 빈 공음이 들어간다.\r\n",
        "    begin = time()\r\n",
        "\r\n",
        "    # tqdm 함수로 진행 상황 출력\r\n",
        "    for label in tqdm(labels):\r\n",
        "        path = MY_PATH + '/' + label    # 해당 라벨 폴더의 이름(.....drive/audio/**)\r\n",
        "        waves = [f for f in os.listdir(path)]\r\n",
        "        \r\n",
        "        for wav in waves:\r\n",
        "            file = path + '/' + wav\r\n",
        "            sound, rate = librosa.load(file)\r\n",
        "            \r\n",
        "            # 8kHz로 다운 샘플링\r\n",
        "            new = librosa.resample(sound,\r\n",
        "                                   orig_sr = rate,\r\n",
        "                                   target_sr = 8000)\r\n",
        "\r\n",
        "            # 성공적인 8kHz 샘플만 저장\r\n",
        "            if(len(new) == 8000):\r\n",
        "                all_wave.append(new)\r\n",
        "                all_label.append(label)\r\n",
        "    end = time()\r\n",
        "    print('\\n다운 샘플링 시간 : {:.2f}초'.format(end - begin))"
      ],
      "execution_count": null,
      "outputs": []
    },
    {
      "cell_type": "code",
      "metadata": {
        "id": "9GgcTZV8FBvm"
      },
      "source": [
        "# 라벨 처리\r\n",
        "def do_label():\r\n",
        "    global all_label, all_wave\r\n",
        "\r\n",
        "    encoder = LabelEncoder()\r\n",
        "    tmp = encoder.fit_transform(all_label)\r\n",
        "    all_label = to_categorical(tmp, len(labels))\r\n",
        "\r\n",
        "    # 음성 데이터를 3차원으로 변환 => 채널 정보 추가하기 위해서\r\n",
        "    all_wave = np.array(all_wave)\r\n",
        "    all_wave = all_wave.reshape(-1, 8000, 1)\r\n",
        "    #total = all_wave.shape[0]\r\n",
        "    #all_wave = all_wave.reshape(total, 8000, 1)\r\n",
        "          # reshape을 사용하는 두 라인은 같은 내용이다.\r\n",
        "          # total(all_wave.shape[0])을 상수로 사용하면 안된다\r\n",
        "          # 나중에 음성 데이터를 추가하거나 제거하면 숫자가 달라짐\r\n",
        "    print(all_wave.shape)"
      ],
      "execution_count": null,
      "outputs": []
    },
    {
      "cell_type": "code",
      "metadata": {
        "colab": {
          "base_uri": "https://localhost:8080/"
        },
        "id": "G7zVrPJpWuQv",
        "outputId": "3d5b1036-fe33-49a4-90a2-9fd6c024a9c3"
      },
      "source": [
        "# 데이터 처리 모드\r\n",
        "if READ_WAV:\r\n",
        "    read_wave()\r\n",
        "    do_label()\r\n",
        "\r\n",
        "    with open('arrays.npy', 'wb') as f:\r\n",
        "        np.save(f, all_wave)\r\n",
        "        np.save(f, all_label)\r\n",
        "    \r\n",
        "    print('데이터 처리 끝')\r\n",
        "    print('READ_WAV를 0으로 바꾸고 진행하세요')\r\n",
        "    \r\n",
        "else:\r\n",
        "    with open('/content/drive/MyDrive/Colab Notebooks/data/arrays.npy', 'rb') as f:\r\n",
        "        all_wave = np.load(f)\r\n",
        "        all_label = np.load(f)\r\n",
        "\r\n",
        "# 데이터 모양 출력\r\n",
        "print('음성 데이터 :', all_wave.shape)\r\n",
        "print('라벨 정보 :', all_label.shape)"
      ],
      "execution_count": null,
      "outputs": [
        {
          "output_type": "stream",
          "text": [
            "음성 데이터 : (889, 8000, 1)\n",
            "라벨 정보 : (889, 5)\n"
          ],
          "name": "stdout"
        }
      ]
    },
    {
      "cell_type": "code",
      "metadata": {
        "colab": {
          "base_uri": "https://localhost:8080/"
        },
        "id": "rqqL9YZMdwlU",
        "outputId": "07ff33b1-3b09-4080-ecc7-e8199a7de440"
      },
      "source": [
        "# 데이터 사분할\r\n",
        "X_train, X_test, Y_train, Y_test = train_test_split(all_wave,\r\n",
        "                                                    all_label,\r\n",
        "                                                    train_size = MY_SPLIT,\r\n",
        "                                                    shuffle = True)\r\n",
        "                            # 데이터가 순서대로 뭉쳐져 있기 때문에\r\n",
        "                            # 셔플을 반드시 해줘야 한다.\r\n",
        "\r\n",
        "# 데이터 모양 확인\r\n",
        "print('학습용 입력 데이터 모양 :', X_train.shape)\r\n",
        "print('학습용 출력 데이터 모양 :', Y_train.shape)\r\n",
        "\r\n",
        "print('평가용 입력 데이터 모양 :', X_test.shape)\r\n",
        "print('평가용 출력 데이터 모양 :', Y_test.shape)"
      ],
      "execution_count": null,
      "outputs": [
        {
          "output_type": "stream",
          "text": [
            "학습용 입력 데이터 모양 : (711, 8000, 1)\n",
            "학습용 출력 데이터 모양 : (711, 5)\n",
            "평가용 입력 데이터 모양 : (178, 8000, 1)\n",
            "평가용 출력 데이터 모양 : (178, 5)\n"
          ],
          "name": "stdout"
        }
      ]
    },
    {
      "cell_type": "markdown",
      "metadata": {
        "id": "aB0XyEz_fzcc"
      },
      "source": [
        "3. 인공 신경망 구현"
      ]
    },
    {
      "cell_type": "code",
      "metadata": {
        "colab": {
          "base_uri": "https://localhost:8080/"
        },
        "id": "-O2dojptf001",
        "outputId": "c74b0724-b7b7-4ba2-8c04-39075ddf8ddb"
      },
      "source": [
        "# Sequencial이 아니라 Model을 사용하는 방법\r\n",
        "                        ##########################\r\n",
        "                        #   출력(x) <= 입력      #\r\n",
        "                        #        └---------┐   #\r\n",
        "                        #   출력(y) <= 입력(x)   #\r\n",
        "                        #        └---------┐   #\r\n",
        "                        #   출력(z) <= 입력(y)   #\r\n",
        "                        ##########################\r\n",
        "\r\n",
        "# CNN 구현\r\n",
        "# 입력층 (1번 블록)\r\n",
        "my_input = Input(shape = (8000, 1))     # 출력 : inputs\r\n",
        "x = BatchNormalization()(my_input)      # 입력 : inputs\r\n",
        "\r\n",
        "# 첫번째 합성곱 (2번 블록)\r\n",
        "x = Conv1D(filters = 8,\r\n",
        "           kernel_size = 13,\r\n",
        "           padding = 'valid',\r\n",
        "           strides = 1,\r\n",
        "           activation = 'relu')(x)    # (x)는 입력층에 있던 x\r\n",
        "x = MaxPool1D(pool_size = 3)(x)       # (x)는 위에서 Conv1D 했던 x\r\n",
        "x = Dropout(rate = MY_DROP)(x)        # (x)는 위에서 MaxPool 했던 x\r\n",
        "\r\n",
        "# 두번째 합성곱 (3번 블록)\r\n",
        "x = Conv1D(filters = 16,\r\n",
        "           kernel_size = 11,\r\n",
        "           padding = 'valid',\r\n",
        "           strides = 1,\r\n",
        "           activation = 'relu')(x)    # (x)는 첫번째에서 나온 x\r\n",
        "x = MaxPool1D(pool_size = 3)(x)       # (x)는 위에서 Conv1D 했던 x\r\n",
        "x = Dropout(rate = MY_DROP)(x)        # (x)는 위에서 MaxPool 했던 x\r\n",
        "\r\n",
        "# 세번째 합성곱 (4번 블록)\r\n",
        "x = Conv1D(filters = 32,\r\n",
        "           kernel_size = 9,           # 커널을 떨어뜨리는건 그냥 이유 없음\r\n",
        "           padding = 'valid',\r\n",
        "           strides = 1,\r\n",
        "           activation = 'relu')(x)    # (x)는 두번째에서 나온 x\r\n",
        "x = MaxPool1D(pool_size = 3)(x)       # (x)는 위에서 Conv1D 했던 x\r\n",
        "x = Dropout(rate = MY_DROP)(x)        # (x)는 위에서 MaxPool 했던 x\r\n",
        "x = BatchNormalization()(x)           # (x)는 위에서 Dropout 했던 x\r\n",
        "\r\n",
        "############################### 여기까지 CNN ###############################\r\n",
        "# RNN (5번 블록)\r\n",
        "# 첫번째 RNN/GRU 층\r\n",
        "x = Bidirectional(GRU(units = MY_HIDDEN,\r\n",
        "                      return_sequences = True),\r\n",
        "                  merge_mode = 'sum')(x)      # (x)는 CNN에서 나온 x\r\n",
        "\r\n",
        "# 두번째 RNN/GRU 층\r\n",
        "x = Bidirectional(GRU(units = MY_HIDDEN,\r\n",
        "                      return_sequences = True),\r\n",
        "                  merge_mode = 'sum')(x)      # (x)는 첫번째 GRU에서 나온 x\r\n",
        "\r\n",
        "# 세번째 RNN/GRU 층\r\n",
        "x = Bidirectional(GRU(units = MY_HIDDEN,\r\n",
        "                      return_sequences = False),\r\n",
        "                  merge_mode = 'sum')(x)      # (x)는 두번째 GRU에서 나온 x\r\n",
        "\r\n",
        "############################# 여기까지 RNN(GRU) #############################\r\n",
        "\r\n",
        "# DNN 으로 마무리(6번 블록)\r\n",
        "x = BatchNormalization()(x)\r\n",
        "x = Dense(units = 256,\r\n",
        "          activation = 'relu')(x)\r\n",
        "my_output = Dense(units = len(labels),\r\n",
        "                  activation = 'softmax')(x)\r\n",
        "\r\n",
        "############################# 여기까지 DNN #############################\r\n",
        "\r\n",
        "# 전체 인공 신경망 출력\r\n",
        "model = Model(inputs = my_input,\r\n",
        "              outputs = my_output)\r\n",
        "print('인공 신경망 요약')\r\n",
        "model.summary()"
      ],
      "execution_count": null,
      "outputs": [
        {
          "output_type": "stream",
          "text": [
            "인공 신경망 요약\n",
            "Model: \"model\"\n",
            "_________________________________________________________________\n",
            "Layer (type)                 Output Shape              Param #   \n",
            "=================================================================\n",
            "input_1 (InputLayer)         [(None, 8000, 1)]         0         \n",
            "_________________________________________________________________\n",
            "batch_normalization (BatchNo (None, 8000, 1)           4         \n",
            "_________________________________________________________________\n",
            "conv1d (Conv1D)              (None, 7988, 8)           112       \n",
            "_________________________________________________________________\n",
            "max_pooling1d (MaxPooling1D) (None, 2662, 8)           0         \n",
            "_________________________________________________________________\n",
            "dropout (Dropout)            (None, 2662, 8)           0         \n",
            "_________________________________________________________________\n",
            "conv1d_1 (Conv1D)            (None, 2652, 16)          1424      \n",
            "_________________________________________________________________\n",
            "max_pooling1d_1 (MaxPooling1 (None, 884, 16)           0         \n",
            "_________________________________________________________________\n",
            "dropout_1 (Dropout)          (None, 884, 16)           0         \n",
            "_________________________________________________________________\n",
            "conv1d_2 (Conv1D)            (None, 876, 32)           4640      \n",
            "_________________________________________________________________\n",
            "max_pooling1d_2 (MaxPooling1 (None, 292, 32)           0         \n",
            "_________________________________________________________________\n",
            "dropout_2 (Dropout)          (None, 292, 32)           0         \n",
            "_________________________________________________________________\n",
            "batch_normalization_1 (Batch (None, 292, 32)           128       \n",
            "_________________________________________________________________\n",
            "bidirectional (Bidirectional (None, 292, 128)          124416    \n",
            "_________________________________________________________________\n",
            "bidirectional_1 (Bidirection (None, 292, 128)          198144    \n",
            "_________________________________________________________________\n",
            "bidirectional_2 (Bidirection (None, 128)               198144    \n",
            "_________________________________________________________________\n",
            "batch_normalization_2 (Batch (None, 128)               512       \n",
            "_________________________________________________________________\n",
            "dense (Dense)                (None, 256)               33024     \n",
            "_________________________________________________________________\n",
            "dense_1 (Dense)              (None, 5)                 1285      \n",
            "=================================================================\n",
            "Total params: 561,833\n",
            "Trainable params: 561,511\n",
            "Non-trainable params: 322\n",
            "_________________________________________________________________\n"
          ],
          "name": "stdout"
        }
      ]
    },
    {
      "cell_type": "markdown",
      "metadata": {
        "id": "k_TgHkiZwj1F"
      },
      "source": [
        "4. 인공 신경망 학습"
      ]
    },
    {
      "cell_type": "code",
      "metadata": {
        "colab": {
          "base_uri": "https://localhost:8080/"
        },
        "id": "HrSinrfJwmRH",
        "outputId": "349ce144-b5f4-4cb0-8091-40bb4eadde2d"
      },
      "source": [
        "# CNN + RNN + DNN 학습\r\n",
        "model.compile(optimizer = 'adam',\r\n",
        "              loss = 'categorical_crossentropy',\r\n",
        "              metrics = ['acc'])\r\n",
        "\r\n",
        "# 학습 시작\r\n",
        "print('학습 시작')\r\n",
        "begin = time()\r\n",
        "\r\n",
        "model.fit(x = X_train, \r\n",
        "          y = Y_train,\r\n",
        "          epochs = MY_EPOCH,\r\n",
        "          batch_size = MY_BATCH,\r\n",
        "          verbose = 0)\r\n",
        "\r\n",
        "end = time()\r\n",
        "\r\n",
        "print('학습 시간 : {:.2f}초'.format(end - begin))"
      ],
      "execution_count": null,
      "outputs": [
        {
          "output_type": "stream",
          "text": [
            "학습 시작\n",
            "학습 시간 : 83.17초\n"
          ],
          "name": "stdout"
        }
      ]
    },
    {
      "cell_type": "markdown",
      "metadata": {
        "id": "8NFUV6k-yQft"
      },
      "source": [
        "5. 인공 신경망 평가"
      ]
    },
    {
      "cell_type": "code",
      "metadata": {
        "colab": {
          "base_uri": "https://localhost:8080/"
        },
        "id": "56VSs9ofySdd",
        "outputId": "f11ed5a2-dd33-4712-9150-1f44a1c9116d"
      },
      "source": [
        "# CNN + RNN + DNN 평가\r\n",
        "score = model.evaluate(x = X_test, y = Y_test,\r\n",
        "                       verbose = 1)\r\n",
        "\r\n",
        "print('최종 손실값 : {:.2f}'.format(score[0]))\r\n",
        "print('최종 정확도 : {:.2f}'.format(score[1]))"
      ],
      "execution_count": null,
      "outputs": [
        {
          "output_type": "stream",
          "text": [
            "6/6 [==============================] - 2s 29ms/step - loss: 0.4670 - acc: 0.9101\n",
            "최종 손실값 : 0.47\n",
            "최종 정확도 : 0.91\n"
          ],
          "name": "stdout"
        }
      ]
    },
    {
      "cell_type": "markdown",
      "metadata": {
        "id": "jiMZOH_c0Rz9"
      },
      "source": [
        "6. 인공 신경망 예측"
      ]
    },
    {
      "cell_type": "code",
      "metadata": {
        "colab": {
          "base_uri": "https://localhost:8080/"
        },
        "id": "9N9Sp1jp0Tir",
        "outputId": "cbf33709-b6e5-4717-8f6e-2ac8a9f65530"
      },
      "source": [
        "# 주어진 음성을 단어로 전환\r\n",
        "def audio_to_text(audio):\r\n",
        "    new = audio.reshape(1, 8000, 1)\r\n",
        "    pred = model.predict(new)\r\n",
        "    pred = pred.argmax(axis = 1)\r\n",
        "    return pred\r\n",
        "\r\n",
        "print('추측 :', audio_to_text(X_test[0]))\r\n",
        "print('정답 :', Y_test[0])\r\n",
        "# ['go', 'happy', 'seven', 'stop', 'yes']"
      ],
      "execution_count": null,
      "outputs": [
        {
          "output_type": "stream",
          "text": [
            "추측 : [1]\n",
            "정답 : [0. 0. 0. 1. 0.]\n"
          ],
          "name": "stdout"
        }
      ]
    },
    {
      "cell_type": "code",
      "metadata": {
        "colab": {
          "base_uri": "https://localhost:8080/"
        },
        "id": "f6SYKqLvj2nT",
        "outputId": "fd582237-1ae7-4ced-a083-e21be0827698"
      },
      "source": [
        "# 내(교수님) 음성 인식하기\r\n",
        "audio, rate = librosa.load('/content/drive/MyDrive/Colab Notebooks/data/SKL-yes.wav')\r\n",
        "print(rate)\r\n",
        "\r\n",
        "# 내 목소리 resampling\r\n",
        "audio = librosa.resample(audio, \r\n",
        "                         orig_sr = rate,\r\n",
        "                         target_sr = 8000)\r\n",
        "print(len(audio))\r\n",
        "\r\n",
        "# 8kHz로 패딩\r\n",
        "audio = np.append(audio, np.zeros(118))\r\n",
        "print(len(audio))\r\n",
        "\r\n",
        "# 예측\r\n",
        "pred = audio_to_text(audio)\r\n",
        "print(pred)\r\n",
        "# ['go', 'happy', 'seven', 'stop', 'yes']"
      ],
      "execution_count": null,
      "outputs": [
        {
          "output_type": "stream",
          "text": [
            "22050\n",
            "7882\n",
            "8000\n",
            "[4]\n"
          ],
          "name": "stdout"
        }
      ]
    }
  ]
}