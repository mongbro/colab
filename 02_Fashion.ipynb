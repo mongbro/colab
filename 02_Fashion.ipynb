{
  "nbformat": 4,
  "nbformat_minor": 0,
  "metadata": {
    "colab": {
      "name": "02. Fashion",
      "provenance": [],
      "collapsed_sections": [],
      "authorship_tag": "ABX9TyPd9IIqFatjYdqTOkPauqdh",
      "include_colab_link": true
    },
    "kernelspec": {
      "name": "python3",
      "display_name": "Python 3"
    },
    "accelerator": "GPU"
  },
  "cells": [
    {
      "cell_type": "markdown",
      "metadata": {
        "id": "view-in-github",
        "colab_type": "text"
      },
      "source": [
        "<a href=\"https://colab.research.google.com/github/mongbro/colab/blob/main/02_Fashion.ipynb\" target=\"_parent\"><img src=\"https://colab.research.google.com/assets/colab-badge.svg\" alt=\"Open In Colab\"/></a>"
      ]
    },
    {
      "cell_type": "markdown",
      "metadata": {
        "id": "JuKYgzEEXvca"
      },
      "source": [
        "### Keras CNN으로 패션 아이템 구분하기"
      ]
    },
    {
      "cell_type": "markdown",
      "metadata": {
        "id": "JsoYIqQVX1sK"
      },
      "source": [
        "1. 패키지 수입 및 파라미터 지정"
      ]
    },
    {
      "cell_type": "code",
      "metadata": {
        "id": "mpdo9cxyXo0c"
      },
      "source": [
        "# 패키지 수입\r\n",
        "import matplotlib.pyplot as plt\r\n",
        "import numpy as np\r\n",
        "\r\n",
        "from time import time\r\n",
        "from keras.datasets import fashion_mnist\r\n",
        "from keras.models import Sequential\r\n",
        "from keras.utils import np_utils\r\n",
        "\r\n",
        "from keras.layers import Flatten\r\n",
        "from keras.layers import Dense, MaxPool2D, Conv2D, InputLayer"
      ],
      "execution_count": null,
      "outputs": []
    },
    {
      "cell_type": "code",
      "metadata": {
        "id": "dqT9Rn1jZfK7"
      },
      "source": [
        "# 파라미터 지정\r\n",
        "MY_EPOCH = 10\r\n",
        "MY_BATCH = 500\r\n"
      ],
      "execution_count": null,
      "outputs": []
    },
    {
      "cell_type": "markdown",
      "metadata": {
        "id": "DblPiCCKc67F"
      },
      "source": [
        "2.데이터 불러오기"
      ]
    },
    {
      "cell_type": "code",
      "metadata": {
        "colab": {
          "base_uri": "https://localhost:8080/"
        },
        "id": "b8T7jlWyc8sb",
        "outputId": "fb32b944-e350-4ed0-d5b2-4dceff6d6074"
      },
      "source": [
        "# 데이터 불러오기\r\n",
        "(X_train, Y_train), (X_test, Y_test) = fashion_mnist.load_data()\r\n",
        "\r\n",
        "print('학습용 입력 데이터 :', X_train.shape)\r\n",
        "print('학습용 출력 데이터 :', Y_train.shape)\r\n",
        "print('평가용 입력 데이터 :', X_test.shape)\r\n",
        "print('평가용 출력 데이터 :', Y_test.shape)"
      ],
      "execution_count": null,
      "outputs": [
        {
          "output_type": "stream",
          "text": [
            "학습용 입력 데이터 : (60000, 28, 28)\n",
            "학습용 출력 데이터 : (60000,)\n",
            "평가용 입력 데이터 : (10000, 28, 28)\n",
            "평가용 출력 데이터 : (10000,)\n"
          ],
          "name": "stdout"
        }
      ]
    },
    {
      "cell_type": "code",
      "metadata": {
        "colab": {
          "base_uri": "https://localhost:8080/",
          "height": 1000
        },
        "id": "FzQaOIFreT79",
        "outputId": "e9d02d27-c8f0-4df7-86b5-f8e8c88a369f"
      },
      "source": [
        "# 데이터 샘플 출력\r\n",
        "print('학습용 데이터 첫번째 이미지 화소 정보')\r\n",
        "print(X_train[0])\r\n",
        "plt.figure(figsize = (10, 10))\r\n",
        "plt.imshow(X_train[0], cmap = 'gray')\r\n",
        "print('학습용 데이터 첫번째 이미지의 라벨 : ', Y_train[0])"
      ],
      "execution_count": null,
      "outputs": [
        {
          "output_type": "stream",
          "text": [
            "학습용 데이터 첫번째 이미지 화소 정보\n",
            "[[  0   0   0   0   0   0   0   0   0   0   0   0   0   0   0   0   0   0\n",
            "    0   0   0   0   0   0   0   0   0   0]\n",
            " [  0   0   0   0   0   0   0   0   0   0   0   0   0   0   0   0   0   0\n",
            "    0   0   0   0   0   0   0   0   0   0]\n",
            " [  0   0   0   0   0   0   0   0   0   0   0   0   0   0   0   0   0   0\n",
            "    0   0   0   0   0   0   0   0   0   0]\n",
            " [  0   0   0   0   0   0   0   0   0   0   0   0   1   0   0  13  73   0\n",
            "    0   1   4   0   0   0   0   1   1   0]\n",
            " [  0   0   0   0   0   0   0   0   0   0   0   0   3   0  36 136 127  62\n",
            "   54   0   0   0   1   3   4   0   0   3]\n",
            " [  0   0   0   0   0   0   0   0   0   0   0   0   6   0 102 204 176 134\n",
            "  144 123  23   0   0   0   0  12  10   0]\n",
            " [  0   0   0   0   0   0   0   0   0   0   0   0   0   0 155 236 207 178\n",
            "  107 156 161 109  64  23  77 130  72  15]\n",
            " [  0   0   0   0   0   0   0   0   0   0   0   1   0  69 207 223 218 216\n",
            "  216 163 127 121 122 146 141  88 172  66]\n",
            " [  0   0   0   0   0   0   0   0   0   1   1   1   0 200 232 232 233 229\n",
            "  223 223 215 213 164 127 123 196 229   0]\n",
            " [  0   0   0   0   0   0   0   0   0   0   0   0   0 183 225 216 223 228\n",
            "  235 227 224 222 224 221 223 245 173   0]\n",
            " [  0   0   0   0   0   0   0   0   0   0   0   0   0 193 228 218 213 198\n",
            "  180 212 210 211 213 223 220 243 202   0]\n",
            " [  0   0   0   0   0   0   0   0   0   1   3   0  12 219 220 212 218 192\n",
            "  169 227 208 218 224 212 226 197 209  52]\n",
            " [  0   0   0   0   0   0   0   0   0   0   6   0  99 244 222 220 218 203\n",
            "  198 221 215 213 222 220 245 119 167  56]\n",
            " [  0   0   0   0   0   0   0   0   0   4   0   0  55 236 228 230 228 240\n",
            "  232 213 218 223 234 217 217 209  92   0]\n",
            " [  0   0   1   4   6   7   2   0   0   0   0   0 237 226 217 223 222 219\n",
            "  222 221 216 223 229 215 218 255  77   0]\n",
            " [  0   3   0   0   0   0   0   0   0  62 145 204 228 207 213 221 218 208\n",
            "  211 218 224 223 219 215 224 244 159   0]\n",
            " [  0   0   0   0  18  44  82 107 189 228 220 222 217 226 200 205 211 230\n",
            "  224 234 176 188 250 248 233 238 215   0]\n",
            " [  0  57 187 208 224 221 224 208 204 214 208 209 200 159 245 193 206 223\n",
            "  255 255 221 234 221 211 220 232 246   0]\n",
            " [  3 202 228 224 221 211 211 214 205 205 205 220 240  80 150 255 229 221\n",
            "  188 154 191 210 204 209 222 228 225   0]\n",
            " [ 98 233 198 210 222 229 229 234 249 220 194 215 217 241  65  73 106 117\n",
            "  168 219 221 215 217 223 223 224 229  29]\n",
            " [ 75 204 212 204 193 205 211 225 216 185 197 206 198 213 240 195 227 245\n",
            "  239 223 218 212 209 222 220 221 230  67]\n",
            " [ 48 203 183 194 213 197 185 190 194 192 202 214 219 221 220 236 225 216\n",
            "  199 206 186 181 177 172 181 205 206 115]\n",
            " [  0 122 219 193 179 171 183 196 204 210 213 207 211 210 200 196 194 191\n",
            "  195 191 198 192 176 156 167 177 210  92]\n",
            " [  0   0  74 189 212 191 175 172 175 181 185 188 189 188 193 198 204 209\n",
            "  210 210 211 188 188 194 192 216 170   0]\n",
            " [  2   0   0   0  66 200 222 237 239 242 246 243 244 221 220 193 191 179\n",
            "  182 182 181 176 166 168  99  58   0   0]\n",
            " [  0   0   0   0   0   0   0  40  61  44  72  41  35   0   0   0   0   0\n",
            "    0   0   0   0   0   0   0   0   0   0]\n",
            " [  0   0   0   0   0   0   0   0   0   0   0   0   0   0   0   0   0   0\n",
            "    0   0   0   0   0   0   0   0   0   0]\n",
            " [  0   0   0   0   0   0   0   0   0   0   0   0   0   0   0   0   0   0\n",
            "    0   0   0   0   0   0   0   0   0   0]]\n",
            "학습용 데이터 첫번째 이미지의 라벨 :  9\n"
          ],
          "name": "stdout"
        },
        {
          "output_type": "display_data",
          "data": {
            "image/png": "[encoded data removed]",
            "text/plain": [
              "<Figure size 720x720 with 1 Axes>"
            ]
          },
          "metadata": {
            "tags": [],
            "needs_background": "light"
          }
        }
      ]
    },
    {
      "cell_type": "code",
      "metadata": {
        "id": "ruKWOwuxgJaT",
        "colab": {
          "base_uri": "https://localhost:8080/"
        },
        "outputId": "4071e1f0-5eb8-46c2-f7e9-5ca1d00392ae"
      },
      "source": [
        "# 데이터 스케일링\r\n",
        "X_train = X_train / 255.0\r\n",
        "X_test = X_test / 255.0\r\n",
        "X_train = (X_train - 0.5) * 2\r\n",
        "X_test = (X_test - 0.5) * 2\r\n",
        "print(X_train[0])\r\n",
        "\r\n",
        "# 데이터 모양 정보 전환 ( == 이미지 채널 정보 추가)\r\n",
        "X_train = X_train.reshape(60000,28,28,1)\r\n",
        "X_test = X_test.reshape(10000,28,28,1)\r\n",
        "        # (6000, 28, 28) 3차원 => (60000, 28, 28, 1) 4차원   마지막 1은 채널정보"
      ],
      "execution_count": null,
      "outputs": [
        {
          "output_type": "stream",
          "text": [
            "[[-1.         -1.         -1.         -1.         -1.         -1.\n",
            "  -1.         -1.         -1.         -1.         -1.         -1.\n",
            "  -1.         -1.         -1.         -1.         -1.         -1.\n",
            "  -1.         -1.         -1.         -1.         -1.         -1.\n",
            "  -1.         -1.         -1.         -1.        ]\n",
            " [-1.         -1.         -1.         -1.         -1.         -1.\n",
            "  -1.         -1.         -1.         -1.         -1.         -1.\n",
            "  -1.         -1.         -1.         -1.         -1.         -1.\n",
            "  -1.         -1.         -1.         -1.         -1.         -1.\n",
            "  -1.         -1.         -1.         -1.        ]\n",
            " [-1.         -1.         -1.         -1.         -1.         -1.\n",
            "  -1.         -1.         -1.         -1.         -1.         -1.\n",
            "  -1.         -1.         -1.         -1.         -1.         -1.\n",
            "  -1.         -1.         -1.         -1.         -1.         -1.\n",
            "  -1.         -1.         -1.         -1.        ]\n",
            " [-1.         -1.         -1.         -1.         -1.         -1.\n",
            "  -1.         -1.         -1.         -1.         -1.         -1.\n",
            "  -0.99215686 -1.         -1.         -0.89803922 -0.42745098 -1.\n",
            "  -1.         -0.99215686 -0.96862745 -1.         -1.         -1.\n",
            "  -1.         -0.99215686 -0.99215686 -1.        ]\n",
            " [-1.         -1.         -1.         -1.         -1.         -1.\n",
            "  -1.         -1.         -1.         -1.         -1.         -1.\n",
            "  -0.97647059 -1.         -0.71764706  0.06666667 -0.00392157 -0.51372549\n",
            "  -0.57647059 -1.         -1.         -1.         -0.99215686 -0.97647059\n",
            "  -0.96862745 -1.         -1.         -0.97647059]\n",
            " [-1.         -1.         -1.         -1.         -1.         -1.\n",
            "  -1.         -1.         -1.         -1.         -1.         -1.\n",
            "  -0.95294118 -1.         -0.2         0.6         0.38039216  0.05098039\n",
            "   0.12941176 -0.03529412 -0.81960784 -1.         -1.         -1.\n",
            "  -1.         -0.90588235 -0.92156863 -1.        ]\n",
            " [-1.         -1.         -1.         -1.         -1.         -1.\n",
            "  -1.         -1.         -1.         -1.         -1.         -1.\n",
            "  -1.         -1.          0.21568627  0.85098039  0.62352941  0.39607843\n",
            "  -0.16078431  0.22352941  0.2627451  -0.14509804 -0.49803922 -0.81960784\n",
            "  -0.39607843  0.01960784 -0.43529412 -0.88235294]\n",
            " [-1.         -1.         -1.         -1.         -1.         -1.\n",
            "  -1.         -1.         -1.         -1.         -1.         -0.99215686\n",
            "  -1.         -0.45882353  0.62352941  0.74901961  0.70980392  0.69411765\n",
            "   0.69411765  0.27843137 -0.00392157 -0.05098039 -0.04313725  0.14509804\n",
            "   0.10588235 -0.30980392  0.34901961 -0.48235294]\n",
            " [-1.         -1.         -1.         -1.         -1.         -1.\n",
            "  -1.         -1.         -1.         -0.99215686 -0.99215686 -0.99215686\n",
            "  -1.          0.56862745  0.81960784  0.81960784  0.82745098  0.79607843\n",
            "   0.74901961  0.74901961  0.68627451  0.67058824  0.28627451 -0.00392157\n",
            "  -0.03529412  0.5372549   0.79607843 -1.        ]\n",
            " [-1.         -1.         -1.         -1.         -1.         -1.\n",
            "  -1.         -1.         -1.         -1.         -1.         -1.\n",
            "  -1.          0.43529412  0.76470588  0.69411765  0.74901961  0.78823529\n",
            "   0.84313725  0.78039216  0.75686275  0.74117647  0.75686275  0.73333333\n",
            "   0.74901961  0.92156863  0.35686275 -1.        ]\n",
            " [-1.         -1.         -1.         -1.         -1.         -1.\n",
            "  -1.         -1.         -1.         -1.         -1.         -1.\n",
            "  -1.          0.51372549  0.78823529  0.70980392  0.67058824  0.55294118\n",
            "   0.41176471  0.6627451   0.64705882  0.65490196  0.67058824  0.74901961\n",
            "   0.7254902   0.90588235  0.58431373 -1.        ]\n",
            " [-1.         -1.         -1.         -1.         -1.         -1.\n",
            "  -1.         -1.         -1.         -0.99215686 -0.97647059 -1.\n",
            "  -0.90588235  0.71764706  0.7254902   0.6627451   0.70980392  0.50588235\n",
            "   0.3254902   0.78039216  0.63137255  0.70980392  0.75686275  0.6627451\n",
            "   0.77254902  0.54509804  0.63921569 -0.59215686]\n",
            " [-1.         -1.         -1.         -1.         -1.         -1.\n",
            "  -1.         -1.         -1.         -1.         -0.95294118 -1.\n",
            "  -0.22352941  0.91372549  0.74117647  0.7254902   0.70980392  0.59215686\n",
            "   0.55294118  0.73333333  0.68627451  0.67058824  0.74117647  0.7254902\n",
            "   0.92156863 -0.06666667  0.30980392 -0.56078431]\n",
            " [-1.         -1.         -1.         -1.         -1.         -1.\n",
            "  -1.         -1.         -1.         -0.96862745 -1.         -1.\n",
            "  -0.56862745  0.85098039  0.78823529  0.80392157  0.78823529  0.88235294\n",
            "   0.81960784  0.67058824  0.70980392  0.74901961  0.83529412  0.70196078\n",
            "   0.70196078  0.63921569 -0.27843137 -1.        ]\n",
            " [-1.         -1.         -0.99215686 -0.96862745 -0.95294118 -0.94509804\n",
            "  -0.98431373 -1.         -1.         -1.         -1.         -1.\n",
            "   0.85882353  0.77254902  0.70196078  0.74901961  0.74117647  0.71764706\n",
            "   0.74117647  0.73333333  0.69411765  0.74901961  0.79607843  0.68627451\n",
            "   0.70980392  1.         -0.39607843 -1.        ]\n",
            " [-1.         -0.97647059 -1.         -1.         -1.         -1.\n",
            "  -1.         -1.         -1.         -0.51372549  0.1372549   0.6\n",
            "   0.78823529  0.62352941  0.67058824  0.73333333  0.70980392  0.63137255\n",
            "   0.65490196  0.70980392  0.75686275  0.74901961  0.71764706  0.68627451\n",
            "   0.75686275  0.91372549  0.24705882 -1.        ]\n",
            " [-1.         -1.         -1.         -1.         -0.85882353 -0.65490196\n",
            "  -0.35686275 -0.16078431  0.48235294  0.78823529  0.7254902   0.74117647\n",
            "   0.70196078  0.77254902  0.56862745  0.60784314  0.65490196  0.80392157\n",
            "   0.75686275  0.83529412  0.38039216  0.4745098   0.96078431  0.94509804\n",
            "   0.82745098  0.86666667  0.68627451 -1.        ]\n",
            " [-1.         -0.55294118  0.46666667  0.63137255  0.75686275  0.73333333\n",
            "   0.75686275  0.63137255  0.6         0.67843137  0.63137255  0.63921569\n",
            "   0.56862745  0.24705882  0.92156863  0.51372549  0.61568627  0.74901961\n",
            "   1.          1.          0.73333333  0.83529412  0.73333333  0.65490196\n",
            "   0.7254902   0.81960784  0.92941176 -1.        ]\n",
            " [-0.97647059  0.58431373  0.78823529  0.75686275  0.73333333  0.65490196\n",
            "   0.65490196  0.67843137  0.60784314  0.60784314  0.60784314  0.7254902\n",
            "   0.88235294 -0.37254902  0.17647059  1.          0.79607843  0.73333333\n",
            "   0.4745098   0.20784314  0.49803922  0.64705882  0.6         0.63921569\n",
            "   0.74117647  0.78823529  0.76470588 -1.        ]\n",
            " [-0.23137255  0.82745098  0.55294118  0.64705882  0.74117647  0.79607843\n",
            "   0.79607843  0.83529412  0.95294118  0.7254902   0.52156863  0.68627451\n",
            "   0.70196078  0.89019608 -0.49019608 -0.42745098 -0.16862745 -0.08235294\n",
            "   0.31764706  0.71764706  0.73333333  0.68627451  0.70196078  0.74901961\n",
            "   0.74901961  0.75686275  0.79607843 -0.77254902]\n",
            " [-0.41176471  0.6         0.6627451   0.6         0.51372549  0.60784314\n",
            "   0.65490196  0.76470588  0.69411765  0.45098039  0.54509804  0.61568627\n",
            "   0.55294118  0.67058824  0.88235294  0.52941176  0.78039216  0.92156863\n",
            "   0.8745098   0.74901961  0.70980392  0.6627451   0.63921569  0.74117647\n",
            "   0.7254902   0.73333333  0.80392157 -0.4745098 ]\n",
            " [-0.62352941  0.59215686  0.43529412  0.52156863  0.67058824  0.54509804\n",
            "   0.45098039  0.49019608  0.52156863  0.50588235  0.58431373  0.67843137\n",
            "   0.71764706  0.73333333  0.7254902   0.85098039  0.76470588  0.69411765\n",
            "   0.56078431  0.61568627  0.45882353  0.41960784  0.38823529  0.34901961\n",
            "   0.41960784  0.60784314  0.61568627 -0.09803922]\n",
            " [-1.         -0.04313725  0.71764706  0.51372549  0.40392157  0.34117647\n",
            "   0.43529412  0.5372549   0.6         0.64705882  0.67058824  0.62352941\n",
            "   0.65490196  0.64705882  0.56862745  0.5372549   0.52156863  0.49803922\n",
            "   0.52941176  0.49803922  0.55294118  0.50588235  0.38039216  0.22352941\n",
            "   0.30980392  0.38823529  0.64705882 -0.27843137]\n",
            " [-1.         -1.         -0.41960784  0.48235294  0.6627451   0.49803922\n",
            "   0.37254902  0.34901961  0.37254902  0.41960784  0.45098039  0.4745098\n",
            "   0.48235294  0.4745098   0.51372549  0.55294118  0.6         0.63921569\n",
            "   0.64705882  0.64705882  0.65490196  0.4745098   0.4745098   0.52156863\n",
            "   0.50588235  0.69411765  0.33333333 -1.        ]\n",
            " [-0.98431373 -1.         -1.         -1.         -0.48235294  0.56862745\n",
            "   0.74117647  0.85882353  0.8745098   0.89803922  0.92941176  0.90588235\n",
            "   0.91372549  0.73333333  0.7254902   0.51372549  0.49803922  0.40392157\n",
            "   0.42745098  0.42745098  0.41960784  0.38039216  0.30196078  0.31764706\n",
            "  -0.22352941 -0.54509804 -1.         -1.        ]\n",
            " [-1.         -1.         -1.         -1.         -1.         -1.\n",
            "  -1.         -0.68627451 -0.52156863 -0.65490196 -0.43529412 -0.67843137\n",
            "  -0.7254902  -1.         -1.         -1.         -1.         -1.\n",
            "  -1.         -1.         -1.         -1.         -1.         -1.\n",
            "  -1.         -1.         -1.         -1.        ]\n",
            " [-1.         -1.         -1.         -1.         -1.         -1.\n",
            "  -1.         -1.         -1.         -1.         -1.         -1.\n",
            "  -1.         -1.         -1.         -1.         -1.         -1.\n",
            "  -1.         -1.         -1.         -1.         -1.         -1.\n",
            "  -1.         -1.         -1.         -1.        ]\n",
            " [-1.         -1.         -1.         -1.         -1.         -1.\n",
            "  -1.         -1.         -1.         -1.         -1.         -1.\n",
            "  -1.         -1.         -1.         -1.         -1.         -1.\n",
            "  -1.         -1.         -1.         -1.         -1.         -1.\n",
            "  -1.         -1.         -1.         -1.        ]]\n"
          ],
          "name": "stdout"
        }
      ]
    },
    {
      "cell_type": "code",
      "metadata": {
        "colab": {
          "base_uri": "https://localhost:8080/"
        },
        "id": "XNDamrTtiHSN",
        "outputId": "2494801b-bddb-4b98-c63c-a93106a0a16e"
      },
      "source": [
        "# 라벨 정보 수정\r\n",
        "Y_train = np_utils.to_categorical(Y_train, 10)\r\n",
        "Y_test = np_utils.to_categorical(Y_test, 10)\r\n",
        "                    # categorical => one hot encoding 하는 것\r\n",
        "print('학습용 데이터 첫번째 이미지의 라벨 : ', Y_train[0])\r\n",
        "\r\n",
        "print('학습용 입력 데이터 :', X_train.shape)\r\n",
        "print('학습용 출력 데이터 :', Y_train.shape)\r\n",
        "print('평가용 입력 데이터 :', X_test.shape)\r\n",
        "print('평가용 출력 데이터 :', Y_test.shape)"
      ],
      "execution_count": null,
      "outputs": [
        {
          "output_type": "stream",
          "text": [
            "학습용 데이터 첫번째 이미지의 라벨 :  [0. 0. 0. 0. 0. 0. 0. 0. 0. 1.]\n",
            "학습용 입력 데이터 : (60000, 28, 28, 1)\n",
            "학습용 출력 데이터 : (60000, 10)\n",
            "평가용 입력 데이터 : (10000, 28, 28, 1)\n",
            "평가용 출력 데이터 : (10000, 10)\n"
          ],
          "name": "stdout"
        }
      ]
    },
    {
      "cell_type": "markdown",
      "metadata": {
        "id": "N03GNPGfkoAs"
      },
      "source": [
        "3. 인공 신경망 구현"
      ]
    },
    {
      "cell_type": "code",
      "metadata": {
        "colab": {
          "base_uri": "https://localhost:8080/"
        },
        "id": "nG5Z-oOCkrgx",
        "outputId": "ae9adb09-fe22-460c-bb5a-8a0eb87ef785"
      },
      "source": [
        "# CNN 구현\r\n",
        "model = Sequential()\r\n",
        "model.add(InputLayer(input_shape = (28,28,1)))\r\n",
        "\r\n",
        "# 첫번째 합성곱 블록\r\n",
        "model.add(Conv2D(filters = 32, kernel_size = 2, padding = 'same', activation = 'tanh'))\r\n",
        "              #   (28, 28, 1) => (28, 28, 32)\r\n",
        "\r\n",
        "model.add(MaxPool2D(pool_size = 2))     # pool_size == window_size\r\n",
        "              #   (28, 28, 1) => (28, 28, 32) => (14, 14, 32)\r\n",
        "\r\n",
        "# 두번째 합성곱 블록\r\n",
        "model.add(Conv2D(filters = 64, kernel_size = 2, padding = 'same', activation = 'tanh'))\r\n",
        "              #   (28, 28, 1) => (28, 28, 32) => (14, 14, 32) => (14, 14, 64)\r\n",
        "\r\n",
        "model.add(MaxPool2D(pool_size = 2))\r\n",
        "              #   (28, 28, 1) => (28, 28, 32) => (14, 14, 32) => (14, 14, 64) => (7, 7, 64)\r\n",
        "\r\n",
        "\r\n",
        "#DNN 입성\r\n",
        "model.add(Flatten())\r\n",
        "              #   (7, 7, 64) => 3136\r\n",
        "\r\n",
        "model.add(Dense(units = 128, activation ='tanh'))\r\n",
        "              # 3136 * 128 + 128 = 401536\r\n",
        "\r\n",
        "model.add(Dense(units = 10, activation = 'softmax'))\r\n",
        "              # => 확률이 가장 큰 값\r\n",
        "              \r\n",
        "print('CNN 요약')\r\n",
        "model.summary()"
      ],
      "execution_count": null,
      "outputs": [
        {
          "output_type": "stream",
          "text": [
            "CNN 요약\n",
            "Model: \"sequential_7\"\n",
            "_________________________________________________________________\n",
            "Layer (type)                 Output Shape              Param #   \n",
            "=================================================================\n",
            "conv2d_14 (Conv2D)           (None, 28, 28, 32)        160       \n",
            "_________________________________________________________________\n",
            "max_pooling2d_14 (MaxPooling (None, 14, 14, 32)        0         \n",
            "_________________________________________________________________\n",
            "conv2d_15 (Conv2D)           (None, 14, 14, 64)        8256      \n",
            "_________________________________________________________________\n",
            "max_pooling2d_15 (MaxPooling (None, 7, 7, 64)          0         \n",
            "_________________________________________________________________\n",
            "flatten_7 (Flatten)          (None, 3136)              0         \n",
            "_________________________________________________________________\n",
            "dense_14 (Dense)             (None, 128)               401536    \n",
            "_________________________________________________________________\n",
            "dense_15 (Dense)             (None, 10)                1290      \n",
            "=================================================================\n",
            "Total params: 411,242\n",
            "Trainable params: 411,242\n",
            "Non-trainable params: 0\n",
            "_________________________________________________________________\n"
          ],
          "name": "stdout"
        }
      ]
    },
    {
      "cell_type": "markdown",
      "metadata": {
        "id": "85QZQL7AwXwP"
      },
      "source": [
        "4. 인공 신경망 학습"
      ]
    },
    {
      "cell_type": "code",
      "metadata": {
        "colab": {
          "base_uri": "https://localhost:8080/"
        },
        "id": "oKUijsQPwau3",
        "outputId": "82f5289e-59ad-4d5d-85a4-74f7d0be7e37"
      },
      "source": [
        "# keras에서 인공신경망 학습 및 평가 순서\r\n",
        "      # 1. compile    최적화, 손실 함수 지정\r\n",
        "      # 2. fit        학습, epoch/batch             => 학습용 데이터(X_train, Y_train) \r\n",
        "      # 3. evaluate   평가                          => 평가용 데이터(X_test, Y_test)\r\n",
        "      # 4. predict    평가용의 인풋을 사용해서 예측 \r\n",
        "\r\n",
        "# 학습 방식 설정        # 우리가 실생활에 사용하는 인공신경망의 손실함수는 시작적으로 그릴 수가 없다\r\n",
        "                        # 왜? => 극 고차원 함수이기 때문에 가중치가 아주아주 많아서\r\n",
        "                        # 인공지능/ 딥러닝에서 최적활 알고리즘(optimized)은 가중치를 어떻게 보정하는지 결정한다\r\n",
        "                        # 딥 러닝에서 사용하는 모든 알고리즘 중에서 가장 핵심이 되는 알고리즘이다.\r\n",
        "model.compile(optimizer = 'adam', \r\n",
        "              loss = 'categorical_crossentropy', \r\n",
        "              metrics = ['acc'])\r\n",
        "      # 지금까지 배운 손실함수 : MSE, RMSE, MAE\r\n",
        "      # 손실함수 categorical_crossentropy => softmax 한 다음 one-hot encoding함\r\n",
        "      # EX) 2.0  1.0  0.1  =>softmax=>  0.7  0.2  0.1  =>one-hot encoding =>  1  0  0\r\n",
        "      #    =>  -(log0.7 * 1 + log0.2 * 0 + log0.1 * 0) = -(-0.155 + 0 + 0)\r\n",
        "      #        = -(-0.155) = 0.155  <== 교차 엔트로피 손실값\r\n",
        "\r\n",
        "# CNN 학습\r\n",
        "print('학습 시작')\r\n",
        "begin = time()\r\n",
        "\r\n",
        "model.fit(x = X_train, \r\n",
        "          y = Y_train, \r\n",
        "          epochs = MY_EPOCH, \r\n",
        "          batch_size = MY_BATCH, \r\n",
        "          verbose = 1)      # 학습내용 출력여부(1 : 출력함    0: 출력안함)\r\n",
        "\r\n",
        "end = time()\r\n",
        "print('학습시간 : {:.2f}초'.format(end - begin))\r\n",
        "\r\n",
        "# epoch ?/10 아래의 120 은 batch의 수"
      ],
      "execution_count": null,
      "outputs": [
        {
          "output_type": "stream",
          "text": [
            "학습 시작\n",
            "Epoch 1/10\n",
            "120/120 [==============================] - 2s 11ms/step - loss: 0.7854 - acc: 0.7258\n",
            "Epoch 2/10\n",
            "120/120 [==============================] - 1s 11ms/step - loss: 0.3558 - acc: 0.8746\n",
            "Epoch 3/10\n",
            "120/120 [==============================] - 1s 11ms/step - loss: 0.2997 - acc: 0.8908\n",
            "Epoch 4/10\n",
            "120/120 [==============================] - 1s 10ms/step - loss: 0.2669 - acc: 0.9027\n",
            "Epoch 5/10\n",
            "120/120 [==============================] - 1s 11ms/step - loss: 0.2465 - acc: 0.9108\n",
            "Epoch 6/10\n",
            "120/120 [==============================] - 1s 11ms/step - loss: 0.2172 - acc: 0.9224\n",
            "Epoch 7/10\n",
            "120/120 [==============================] - 1s 11ms/step - loss: 0.2083 - acc: 0.9249\n",
            "Epoch 8/10\n",
            "120/120 [==============================] - 1s 11ms/step - loss: 0.1939 - acc: 0.9306\n",
            "Epoch 9/10\n",
            "120/120 [==============================] - 1s 11ms/step - loss: 0.1787 - acc: 0.9355\n",
            "Epoch 10/10\n",
            "120/120 [==============================] - 1s 11ms/step - loss: 0.1662 - acc: 0.9409\n",
            "학습시간 : 13.26초\n"
          ],
          "name": "stdout"
        }
      ]
    },
    {
      "cell_type": "markdown",
      "metadata": {
        "id": "lWwiqqxyx_ou"
      },
      "source": [
        "5. CNN 평가"
      ]
    },
    {
      "cell_type": "code",
      "metadata": {
        "id": "07Fog7P8x-2_",
        "colab": {
          "base_uri": "https://localhost:8080/"
        },
        "outputId": "ea987628-2f91-4cab-9685-c3c292ea0437"
      },
      "source": [
        "# CNN 평가\r\n",
        "score = model.evaluate(x = X_test, \r\n",
        "                       y = Y_test,\r\n",
        "                       verbose = 1)\r\n",
        "\r\n",
        "print('최종 손실값 : {:.2f}'.format(score[0]))\r\n",
        "print('최종 정확도 : {:.2f}'.format(score[1]))\r\n"
      ],
      "execution_count": null,
      "outputs": [
        {
          "output_type": "stream",
          "text": [
            "313/313 [==============================] - 1s 2ms/step - loss: 0.2509 - acc: 0.9102\n",
            "최종 손실값 : 0.25\n",
            "최종 정확도 : 0.91\n"
          ],
          "name": "stdout"
        }
      ]
    },
    {
      "cell_type": "markdown",
      "metadata": {
        "id": "OPHY1wE4y2IO"
      },
      "source": [
        "6. CNN 예측"
      ]
    },
    {
      "cell_type": "code",
      "metadata": {
        "id": "aT0wMPOxy4Dl",
        "colab": {
          "base_uri": "https://localhost:8080/",
          "height": 720
        },
        "outputId": "d8a3acfd-6fba-499e-f443-825856ab52fc"
      },
      "source": [
        "# 샘플 이미지 지정\r\n",
        "image = X_test[1234]\r\n",
        "print(image.shape)\r\n",
        "\r\n",
        "# batch 정보 추가\r\n",
        "    # 기계 학습에서 batch란?  =>>  학습용 데이터를 몇개 가져와서 계산할 것인가?\r\n",
        "    #                               =>>  너무 많아서 나눠서 여러번 가져옴\r\n",
        "           # EX) 의자 6만개주문 => 1000개 * 60번 배달  =>  의자주문의 batch = 1000\r\n",
        "image = image.reshape(1, 28, 28, 1)\r\n",
        "    #     배치정보 => 1, 28, 28, 1 <= 채널정보\r\n",
        "pred = model.predict(image)\r\n",
        "\r\n",
        "# 정보 출력\r\n",
        "print('CNN 예측 값 :', pred)  # => softmax 된 확률\r\n",
        "print('정답 :', Y_test[1234])\r\n",
        "\r\n",
        "plt.figure(figsize = (10, 10))\r\n",
        "tmp = X_test[1234].reshape(28,28) * 255\r\n",
        "plt.imshow(tmp, cmap = 'gray')"
      ],
      "execution_count": null,
      "outputs": [
        {
          "output_type": "stream",
          "text": [
            "(28, 28, 1)\n",
            "WARNING:tensorflow:7 out of the last 7 calls to <function Model.make_predict_function.<locals>.predict_function at 0x7fad8e14b1e0> triggered tf.function retracing. Tracing is expensive and the excessive number of tracings could be due to (1) creating @tf.function repeatedly in a loop, (2) passing tensors with different shapes, (3) passing Python objects instead of tensors. For (1), please define your @tf.function outside of the loop. For (2), @tf.function has experimental_relax_shapes=True option that relaxes argument shapes that can avoid unnecessary retracing. For (3), please refer to https://www.tensorflow.org/guide/function#controlling_retracing and https://www.tensorflow.org/api_docs/python/tf/function for  more details.\n",
            "CNN 예측 값 : [[9.0233152e-05 8.6322740e-05 3.2879722e-01 8.8068715e-05 6.5479273e-01\n",
            "  2.0318575e-06 1.6097931e-02 2.6038042e-06 4.1464304e-05 1.4068644e-06]]\n",
            "정답 : [0. 0. 0. 0. 1. 0. 0. 0. 0. 0.]\n"
          ],
          "name": "stdout"
        },
        {
          "output_type": "execute_result",
          "data": {
            "text/plain": [
              "<matplotlib.image.AxesImage at 0x7fad8e12c5c0>"
            ]
          },
          "metadata": {
            "tags": []
          },
          "execution_count": 77
        },
        {
          "output_type": "display_data",
          "data": {
            "image/png": "[encoded data removed]",
            "text/plain": [
              "<Figure size 720x720 with 1 Axes>"
            ]
          },
          "metadata": {
            "tags": [],
            "needs_background": "light"
          }
        }
      ]
    }
  ]
}